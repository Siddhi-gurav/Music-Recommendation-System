{
  "cells": [
    {
      "cell_type": "markdown",
      "metadata": {
        "id": "view-in-github"
      },
      "source": [
        "[View in Colaboratory](https://colab.research.google.com/github/ucalyptus/Spotify-Recommendation-Engine/blob/master/Spotify_Recommendation_System_.ipynb)"
      ]
    },
    {
      "cell_type": "code",
      "execution_count": null,
      "metadata": {
        "colab": {
          "base_uri": "https://localhost:8080/"
        },
        "id": "LUBdOIn5irHS",
        "outputId": "306486bb-c57a-430d-dd90-e141ea3746e1"
      },
      "outputs": [
        {
          "output_type": "stream",
          "name": "stdout",
          "text": [
            "Looking in indexes: https://pypi.org/simple, https://us-python.pkg.dev/colab-wheels/public/simple/\n",
            "Collecting spotipy\n",
            "  Downloading spotipy-2.22.1-py3-none-any.whl (28 kB)\n",
            "Collecting redis>=3.5.3\n",
            "  Downloading redis-4.5.4-py3-none-any.whl (238 kB)\n",
            "\u001b[2K     \u001b[90m━━━━━━━━━━━━━━━━━━━━━━━━━━━━━━━━━━━━━━━\u001b[0m \u001b[32m238.9/238.9 KB\u001b[0m \u001b[31m9.3 MB/s\u001b[0m eta \u001b[36m0:00:00\u001b[0m\n",
            "\u001b[?25hRequirement already satisfied: six>=1.15.0 in /usr/local/lib/python3.9/dist-packages (from spotipy) (1.16.0)\n",
            "Requirement already satisfied: urllib3>=1.26.0 in /usr/local/lib/python3.9/dist-packages (from spotipy) (1.26.15)\n",
            "Requirement already satisfied: requests>=2.25.0 in /usr/local/lib/python3.9/dist-packages (from spotipy) (2.27.1)\n",
            "Collecting async-timeout>=4.0.2\n",
            "  Downloading async_timeout-4.0.2-py3-none-any.whl (5.8 kB)\n",
            "Requirement already satisfied: idna<4,>=2.5 in /usr/local/lib/python3.9/dist-packages (from requests>=2.25.0->spotipy) (3.4)\n",
            "Requirement already satisfied: certifi>=2017.4.17 in /usr/local/lib/python3.9/dist-packages (from requests>=2.25.0->spotipy) (2022.12.7)\n",
            "Requirement already satisfied: charset-normalizer~=2.0.0 in /usr/local/lib/python3.9/dist-packages (from requests>=2.25.0->spotipy) (2.0.12)\n",
            "Installing collected packages: async-timeout, redis, spotipy\n",
            "Successfully installed async-timeout-4.0.2 redis-4.5.4 spotipy-2.22.1\n"
          ]
        }
      ],
      "source": [
        "!pip install spotipy"
      ]
    },
    {
      "cell_type": "markdown",
      "metadata": {
        "id": "Uh7PhpFWkcVg"
      },
      "source": [
        "Client ID ffbef2bcb4b84e80b3a0039a2906cb01\n",
        "\n",
        "Client Secret 6c57daa1247f4abe96f38635d38869a0\n",
        "\n",
        "Redirect URI https://developer.spotify.com/dashboard/applications/ffbef2bcb4b84e80b3a0039a2906cb01"
      ]
    },
    {
      "cell_type": "code",
      "execution_count": null,
      "metadata": {
        "id": "CQiyBuLziyEI"
      },
      "outputs": [],
      "source": [
        "import spotipy\n",
        "from spotipy.oauth2 import SpotifyClientCredentials\n",
        "import spotipy.util as util"
      ]
    },
    {
      "cell_type": "code",
      "execution_count": null,
      "metadata": {
        "id": "Xo3x51nrk48s"
      },
      "outputs": [],
      "source": [
        "cid = 'ffbef2bcb4b84e80b3a0039a2906cb01'\n",
        "secret = '6c57daa1247f4abe96f38635d38869a0'\n",
        "username = 'francocasadei'\n",
        "redirect_uri = 'https://developer.spotify.com/dashboard/applications/ffbef2bcb4b84e80b3a0039a2906cb01'\n"
      ]
    },
    {
      "cell_type": "code",
      "execution_count": null,
      "metadata": {
        "id": "6wqoMOuOlf52"
      },
      "outputs": [],
      "source": [
        "scope = 'user-library-read playlist-modify-public playlist-read-private'\n",
        "\n",
        "client_credentials_manager = SpotifyClientCredentials(client_id = cid, client_secret=secret)\n",
        "\n",
        "sp = spotipy.Spotify(client_credentials_manager= client_credentials_manager)\n",
        "\n",
        "token = util.prompt_for_user_token(username,scope,cid,secret,redirect_uri)\n",
        "\n",
        "if token:\n",
        "  sp = spotipy.Spotify(auth=token)\n",
        "  \n",
        "else:\n",
        "  print(\"Can't get token for\", username)"
      ]
    },
    {
      "cell_type": "code",
      "execution_count": null,
      "metadata": {
        "id": "WxaTn9mLmcqZ"
      },
      "outputs": [],
      "source": [
        "import pandas as pd\n",
        "\n",
        "#https://open.spotify.com/user/francocasadei/playlist/6aWL6tZgIycyz98WgigfsG\n",
        "sourcePlaylistID = '6aWL6tZgIycyz98WgigfsG'\n",
        "sourcePlaylist = sp.user_playlist(username,sourcePlaylistID);\n",
        "tracks = sourcePlaylist[\"tracks\"];\n",
        "songs = tracks[\"items\"];\n",
        "\n",
        "track_ids = []\n",
        "track_names = []\n",
        "\n",
        "\n",
        "for i in range(0, len(songs)):\n",
        "  if songs[i]['track']['id']!=None:\n",
        "    track_ids.append(songs[i]['track']['id'])\n",
        "    track_names.append(songs[i]['track']['name'])\n",
        "    \n",
        "features = []\n",
        "\n",
        "\n",
        "for i in range(0,len(track_ids)):\n",
        "  audio_features  = sp.audio_features(track_ids[i])\n",
        "  for track in audio_features:\n",
        "    features.append(track)\n",
        "    \n",
        "    \n",
        "playlist_df = pd.DataFrame(features,index = track_names)"
      ]
    },
    {
      "cell_type": "code",
      "execution_count": null,
      "metadata": {
        "id": "MooiGYAppQ91"
      },
      "outputs": [],
      "source": [
        "#francocasadei@yahoo.it:astrolabio"
      ]
    },
    {
      "cell_type": "code",
      "execution_count": null,
      "metadata": {
        "id": "mA3jsda2sk2n"
      },
      "outputs": [],
      "source": [
        "playlist_df = playlist_df[[\"id\", \"acousticness\", \"danceability\", \"duration_ms\", \"energy\", \"instrumentalness\",  \"key\", \"liveness\", \"loudness\", \"mode\", \"speechiness\", \"tempo\", \"valence\"]]"
      ]
    },
    {
      "cell_type": "code",
      "execution_count": null,
      "metadata": {
        "id": "oHA0fckEtZ9u"
      },
      "outputs": [],
      "source": [
        "playlist_df.shape"
      ]
    },
    {
      "cell_type": "code",
      "execution_count": null,
      "metadata": {
        "id": "cJBLzEg_twFM"
      },
      "outputs": [],
      "source": [
        "playlist_df['ratings']=[10, 9, 9, 10, 8, 6, 8, 4, 3, 5, 7, 5, 5, 8, 8,10,4,6,8,2,4,5,6,9]"
      ]
    },
    {
      "cell_type": "code",
      "execution_count": null,
      "metadata": {
        "id": "ZO9-WVjnuR-F"
      },
      "outputs": [],
      "source": [
        "playlist_df"
      ]
    },
    {
      "cell_type": "code",
      "execution_count": null,
      "metadata": {
        "id": "lQ-PbjSzuUrD"
      },
      "outputs": [],
      "source": [
        "X_train = playlist_df.drop(['id', 'ratings'], axis=1)\n",
        "y_train = playlist_df['ratings']"
      ]
    },
    {
      "cell_type": "code",
      "execution_count": null,
      "metadata": {
        "id": "OG_UdNebud6H"
      },
      "outputs": [],
      "source": [
        "import numpy as np\n",
        "from sklearn import decomposition\n",
        "from sklearn.preprocessing import StandardScaler\n",
        "import matplotlib.pyplot as plt\n",
        "import seaborn as sns; sns.set(style='white')\n",
        "%matplotlib inline\n",
        "%config InlineBackend.figure_format = 'retina'\n",
        "\n",
        "X_scaled = StandardScaler().fit_transform(X_train)\n",
        "\n",
        "pca = decomposition.PCA().fit(X_scaled)\n",
        "\n",
        "\n",
        "plt.figure(figsize=(10,7))\n",
        "plt.plot(np.cumsum(pca.explained_variance_ratio_),color='k',lw=2)\n",
        "plt.xlabel('Number of components')\n",
        "plt.ylabel('Total explained variance')\n",
        "plt.xlim(0,12)\n",
        "plt.yticks(np.arange(0,1.1,0.1))\n",
        "plt.axvline(8,c='b')\n",
        "plt.axhline(0.95,c='r')\n",
        "plt.show();"
      ]
    },
    {
      "cell_type": "code",
      "execution_count": null,
      "metadata": {
        "id": "Te0mkPNLv8O7"
      },
      "outputs": [],
      "source": [
        "# Fit your dataset to the optimal pca\n",
        "pca = decomposition.PCA(n_components=8)\n",
        "X_pca = pca.fit_transform(X_scaled)"
      ]
    },
    {
      "cell_type": "code",
      "execution_count": null,
      "metadata": {
        "id": "Scla3DOowqsA"
      },
      "outputs": [],
      "source": [
        "from sklearn.feature_extraction.text import TfidfVectorizer\n",
        "v = TfidfVectorizer(sublinear_tf = True, ngram_range=(1,6),\n",
        "                   max_features=10000)\n",
        "X_names_sparse=v.fit_transform(track_names)\n",
        "X_names_sparse.shape"
      ]
    },
    {
      "cell_type": "code",
      "execution_count": null,
      "metadata": {
        "id": "xX3LjfChxDWn"
      },
      "outputs": [],
      "source": [
        "from scipy.sparse import csr_matrix, hstack\n",
        "\n",
        "X_train_last = csr_matrix(hstack([X_pca, X_names_sparse]))"
      ]
    },
    {
      "cell_type": "code",
      "execution_count": null,
      "metadata": {
        "id": "yb5E1q6UxKFx"
      },
      "outputs": [],
      "source": [
        "from sklearn.model_selection import StratifiedKFold, GridSearchCV\n",
        "\n",
        "skf = StratifiedKFold(n_splits=2,shuffle=True,random_state=42)"
      ]
    },
    {
      "cell_type": "code",
      "execution_count": null,
      "metadata": {
        "id": "Pej5Ou65Ca4I"
      },
      "outputs": [],
      "source": [
        "from sklearn.neighbors import KNeighborsClassifier\n",
        "\n",
        "knn_params = {'n_neighbors':range(1,10)}\n",
        "knn = KNeighborsClassifier(n_jobs=-1)\n",
        "\n",
        "knn_grid= GridSearchCV(knn,knn_params,cv=skf,n_jobs =-1,verbose=True)\n",
        "knn_grid.fit(X_train_last,y_train)\n",
        "knn_grid.best_params_, knn_grid.best_score_"
      ]
    },
    {
      "cell_type": "code",
      "execution_count": null,
      "metadata": {
        "id": "mYx2CCdtDO03"
      },
      "outputs": [],
      "source": [
        "from sklearn.ensemble import RandomForestClassifier\n",
        "parameters = {'max_features':[4,7,8,10],'min_samples_leaf':[1,3,5,8],'max_depth':[3,5,8]}\n",
        "rfc = RandomForestClassifier(n_estimators=100,random_state=42,n_jobs=-1,oob_score=True)\n",
        "forest_grid = GridSearchCV(rfc,parameters,n_jobs=-1,cv=skf,verbose=1)\n",
        "forest_grid.fit(X_train_last,y_train)\n",
        "forest_grid.best_estimator_ , forest_grid.best_score_"
      ]
    },
    {
      "cell_type": "code",
      "execution_count": null,
      "metadata": {
        "id": "aQChN_fzLon5"
      },
      "outputs": [],
      "source": [
        "from sklearn.tree import DecisionTreeClassifier\n",
        "\n",
        "tree= DecisionTreeClassifier()\n",
        "\n",
        "tree_params = {'max_depth':range(1,11),'max_features':range(4,19)}\n",
        "tree_grid = GridSearchCV(tree,tree_params,cv=skf,n_jobs=-1,verbose=True)\n",
        "tree_grid.fit(X_train_last,y_train)\n",
        "tree_grid.best_estimator_ , tree_grid.best_score_"
      ]
    },
    {
      "cell_type": "code",
      "execution_count": null,
      "metadata": {
        "id": "G72vFULDMobr"
      },
      "outputs": [],
      "source": [
        "rec_tracks=[]\n",
        "\n",
        "for i in playlist_df['id'].values.tolist():\n",
        "  rec_tracks += sp.recommendations(seed_tracks=[i],limit = int(len(playlist_df)/2))['tracks'];\n",
        "  \n",
        "\n",
        "rec_track_ids=[]\n",
        "rec_track_names = []\n",
        "for i in rec_tracks:\n",
        "  rec_track_ids.append(i['id'])\n",
        "  rec_track_names.append(i['name'])\n",
        "  \n",
        "\n",
        "rec_features=[]\n",
        "\n",
        "for i in range(0,len(rec_track_ids)):\n",
        "  rec_audio_features = sp.audio_features(rec_track_ids[i])\n",
        "  for track in rec_audio_features:\n",
        "    rec_features.append(track)\n",
        "    \n",
        "    \n",
        "rec_playlist_df= pd.DataFrame(rec_features,index = rec_track_ids)"
      ]
    },
    {
      "cell_type": "code",
      "execution_count": null,
      "metadata": {
        "id": "nb6EFMlUTuZ1"
      },
      "outputs": [],
      "source": [
        "rec_playlist_df = rec_playlist_df[[\"acousticness\", \"danceability\", \"duration_ms\", \"energy\", \"instrumentalness\",  \"key\", \"liveness\", \"loudness\", \"mode\", \"speechiness\", \"tempo\", \"valence\"]]"
      ]
    },
    {
      "cell_type": "code",
      "execution_count": null,
      "metadata": {
        "id": "fsL5Vw46UVT0"
      },
      "outputs": [],
      "source": [
        "tree_grid.best_estimator_.fit(X_train_last,y_train)\n",
        "rec_playlist_df_scaled = StandardScaler().fit_transform(rec_playlist_df)\n",
        "X_test_pca  = pca.transform(rec_playlist_df_scaled)\n",
        "X_test_names = v.transform(rec_track_names)\n",
        "X_test_last = csr_matrix(hstack([X_test_pca,X_test_names]))\n",
        "y_pred_class = tree_grid.best_estimator_.predict(X_test_last)"
      ]
    },
    {
      "cell_type": "code",
      "execution_count": null,
      "metadata": {
        "id": "N4TAkd8WWPUa"
      },
      "outputs": [],
      "source": [
        "rec_playlist_df['ratings']=y_pred_class\n",
        "rec_playlist_df = rec_playlist_df.sort_values('ratings',ascending=False)\n",
        "rec_playlist_df = rec_playlist_df.reset_index()\n",
        "\n",
        "recs_to_add = rec_playlist_df[rec_playlist_df['ratings']>=9]['index'].values.tolist()"
      ]
    },
    {
      "cell_type": "code",
      "execution_count": null,
      "metadata": {
        "id": "LaUCBoe8XOS_"
      },
      "outputs": [],
      "source": [
        "playlist_recs =sp.user_playlist_create(username,name='PCA + tf-idf + DT - Recommended Songs for Playlist - {}'.format(sourcePlaylist['name']))"
      ]
    },
    {
      "cell_type": "code",
      "execution_count": null,
      "metadata": {
        "id": "eauEBKtPdiJw"
      },
      "outputs": [],
      "source": [
        "playlist_recs"
      ]
    },
    {
      "cell_type": "code",
      "execution_count": null,
      "metadata": {
        "id": "Pjp8b-vWXibE"
      },
      "outputs": [],
      "source": [
        "sp.user_playlist_add_tracks(username,playlist_recs['id'],recs_to_add);"
      ]
    },
    {
      "cell_type": "code",
      "execution_count": null,
      "metadata": {
        "id": "07ieGpc5ZTai"
      },
      "outputs": [],
      "source": []
    }
  ],
  "metadata": {
    "accelerator": "GPU",
    "colab": {
      "provenance": []
    },
    "kernelspec": {
      "display_name": "Python 3",
      "language": "python",
      "name": "python3"
    },
    "language_info": {
      "codemirror_mode": {
        "name": "ipython",
        "version": 3
      },
      "file_extension": ".py",
      "mimetype": "text/x-python",
      "name": "python",
      "nbconvert_exporter": "python",
      "pygments_lexer": "ipython3",
      "version": "3.7.3"
    }
  },
  "nbformat": 4,
  "nbformat_minor": 0
}